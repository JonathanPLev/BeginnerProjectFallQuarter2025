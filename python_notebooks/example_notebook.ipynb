{
 "cells": [
  {
   "cell_type": "code",
   "execution_count": 1,
   "id": "35bea2a8-bac3-46ff-927c-bac94f0a8558",
   "metadata": {},
   "outputs": [],
   "source": [
    "# python imports\n",
    "import os\n",
    "import pandas as pd\n",
    "from PyPDF2 import PdfReader\n",
    "from pdf2image import convert_from_path\n",
    "import matplotlib.pyplot as plt"
   ]
  },
  {
   "cell_type": "code",
   "execution_count": 3,
   "id": "30a2cb6e-5c28-4023-b19c-0546679ae847",
   "metadata": {},
   "outputs": [
    {
     "ename": "FileNotFoundError",
     "evalue": "[Errno 2] No such file or directory: '../data/raw_pdfs'",
     "output_type": "error",
     "traceback": [
      "\u001b[31m---------------------------------------------------------------------------\u001b[39m",
      "\u001b[31mFileNotFoundError\u001b[39m                         Traceback (most recent call last)",
      "\u001b[36mCell\u001b[39m\u001b[36m \u001b[39m\u001b[32mIn[3]\u001b[39m\u001b[32m, line 4\u001b[39m\n\u001b[32m      1\u001b[39m \u001b[38;5;66;03m# loading the pdf_files\u001b[39;00m\n\u001b[32m      3\u001b[39m pdf_dir = \u001b[33m\"\u001b[39m\u001b[33m../data/raw_pdfs\u001b[39m\u001b[33m\"\u001b[39m\n\u001b[32m----> \u001b[39m\u001b[32m4\u001b[39m pdf_files = [f \u001b[38;5;28;01mfor\u001b[39;00m f \u001b[38;5;129;01min\u001b[39;00m \u001b[43mos\u001b[49m\u001b[43m.\u001b[49m\u001b[43mlistdir\u001b[49m\u001b[43m(\u001b[49m\u001b[43mpdf_dir\u001b[49m\u001b[43m)\u001b[49m \u001b[38;5;28;01mif\u001b[39;00m f.endswith(\u001b[33m\"\u001b[39m\u001b[33m.pdf\u001b[39m\u001b[33m\"\u001b[39m)]\n\u001b[32m      5\u001b[39m \u001b[38;5;28mprint\u001b[39m(\u001b[33m\"\u001b[39m\u001b[33mFound PDFs:\u001b[39m\u001b[33m\"\u001b[39m, pdf_files)\n",
      "\u001b[31mFileNotFoundError\u001b[39m: [Errno 2] No such file or directory: '../data/raw_pdfs'"
     ]
    }
   ],
   "source": [
    "# loading the pdf_files\n",
    "\n",
    "pdf_dir = \"../data/raw_pdfs\"\n",
    "pdf_files = [f for f in os.listdir(pdf_dir) if f.endswith(\".pdf\")]\n",
    "print(\"Found PDFs:\", pdf_files)"
   ]
  },
  {
   "cell_type": "code",
   "execution_count": null,
   "id": "1ac9549d-ba88-40e5-abae-b60e7e517472",
   "metadata": {},
   "outputs": [
    {
     "ename": "NameError",
     "evalue": "name 'pdf_files' is not defined",
     "output_type": "error",
     "traceback": [
      "\u001b[31m---------------------------------------------------------------------------\u001b[39m",
      "\u001b[31mNameError\u001b[39m                                 Traceback (most recent call last)",
      "\u001b[36mCell\u001b[39m\u001b[36m \u001b[39m\u001b[32mIn[3]\u001b[39m\u001b[32m, line 4\u001b[39m\n\u001b[32m      1\u001b[39m \u001b[38;5;66;03m# extracting metadata\u001b[39;00m\n\u001b[32m      3\u001b[39m records = []\n\u001b[32m----> \u001b[39m\u001b[32m4\u001b[39m \u001b[38;5;28;01mfor\u001b[39;00m f \u001b[38;5;129;01min\u001b[39;00m \u001b[43mpdf_files\u001b[49m:\n\u001b[32m      5\u001b[39m     path = os.path.join(pdf_dir, f)\n\u001b[32m      6\u001b[39m     reader = PdfReader(path)\n",
      "\u001b[31mNameError\u001b[39m: name 'pdf_files' is not defined"
     ]
    }
   ],
   "source": [
    "# extracting metadata\n",
    "\n",
    "records = []\n",
    "for f in pdf_files:\n",
    "    path = os.path.join(pdf_dir, f)\n",
    "    reader = PdfReader(path)\n",
    "    info = reader.metadata\n",
    "    num_pages = len(reader.pages)\n",
    "    file_size = os.path.getsize(path) / 1024  # KB\n",
    "    records.append({\n",
    "        \"file\": f,\n",
    "        \"pages\": num_pages,\n",
    "        \"size_kb\": round(file_size, 2),\n",
    "        \"author\": info.get(\"/Author\", \"Unknown\")\n",
    "    })\n",
    "\n",
    "df = pd.DataFrame(records)\n",
    "display(df)"
   ]
  },
  {
   "cell_type": "code",
   "execution_count": null,
   "id": "cefb949e-e504-4701-9483-7db67538cfeb",
   "metadata": {},
   "outputs": [
    {
     "ename": "NameError",
     "evalue": "name 'df' is not defined",
     "output_type": "error",
     "traceback": [
      "\u001b[31m---------------------------------------------------------------------------\u001b[39m",
      "\u001b[31mNameError\u001b[39m                                 Traceback (most recent call last)",
      "\u001b[36mCell\u001b[39m\u001b[36m \u001b[39m\u001b[32mIn[4]\u001b[39m\u001b[32m, line 3\u001b[39m\n\u001b[32m      1\u001b[39m \u001b[38;5;66;03m# simple plots\u001b[39;00m\n\u001b[32m----> \u001b[39m\u001b[32m3\u001b[39m \u001b[43mdf\u001b[49m.plot(kind=\u001b[33m\"\u001b[39m\u001b[33mbar\u001b[39m\u001b[33m\"\u001b[39m, x=\u001b[33m\"\u001b[39m\u001b[33mfile\u001b[39m\u001b[33m\"\u001b[39m, y=\u001b[33m\"\u001b[39m\u001b[33mpages\u001b[39m\u001b[33m\"\u001b[39m, title=\u001b[33m\"\u001b[39m\u001b[33mPage count per PDF\u001b[39m\u001b[33m\"\u001b[39m)\n\u001b[32m      4\u001b[39m plt.show()\n",
      "\u001b[31mNameError\u001b[39m: name 'df' is not defined"
     ]
    }
   ],
   "source": [
    "# simple plots\n",
    "\n",
    "df.plot(kind=\"bar\", x=\"file\", y=\"pages\", title=\"Page count per PDF\")\n",
    "plt.show()"
   ]
  },
  {
   "cell_type": "code",
   "execution_count": null,
   "id": "e8d1060b-f33f-4a7f-8665-a2be6bd7522d",
   "metadata": {},
   "outputs": [
    {
     "ename": "NameError",
     "evalue": "name 'pdf_files' is not defined",
     "output_type": "error",
     "traceback": [
      "\u001b[31m---------------------------------------------------------------------------\u001b[39m",
      "\u001b[31mNameError\u001b[39m                                 Traceback (most recent call last)",
      "\u001b[36mCell\u001b[39m\u001b[36m \u001b[39m\u001b[32mIn[5]\u001b[39m\u001b[32m, line 3\u001b[39m\n\u001b[32m      1\u001b[39m \u001b[38;5;66;03m# show one sample page per image\u001b[39;00m\n\u001b[32m----> \u001b[39m\u001b[32m3\u001b[39m sample_pdf = os.path.join(pdf_dir, \u001b[43mpdf_files\u001b[49m[\u001b[32m0\u001b[39m])\n\u001b[32m      4\u001b[39m images = convert_from_path(sample_pdf, dpi=\u001b[32m150\u001b[39m, first_page=\u001b[32m1\u001b[39m, last_page=\u001b[32m1\u001b[39m)\n\u001b[32m      5\u001b[39m images[\u001b[32m0\u001b[39m].save(\u001b[33m\"\u001b[39m\u001b[33msample_page.jpg\u001b[39m\u001b[33m\"\u001b[39m, \u001b[33m\"\u001b[39m\u001b[33mJPEG\u001b[39m\u001b[33m\"\u001b[39m)\n",
      "\u001b[31mNameError\u001b[39m: name 'pdf_files' is not defined"
     ]
    }
   ],
   "source": [
    "# show one sample page\n",
    "\n",
    "sample_pdf = os.path.join(pdf_dir, pdf_files[0])\n",
    "images = convert_from_path(sample_pdf, dpi=150, first_page=1, last_page=1)\n",
    "images[0].save(\"sample_page.jpg\", \"JPEG\")\n",
    "plt.imshow(images[0])\n",
    "plt.axis(\"off\")\n",
    "plt.title(\"Sample Page Image\")\n",
    "plt.show()"
   ]
  },
  {
   "cell_type": "code",
   "execution_count": null,
   "id": "82b03d34-cd4d-48e6-9fd8-bc63cd7dba33",
   "metadata": {},
   "outputs": [
    {
     "ename": "NameError",
     "evalue": "name 'PdfReader' is not defined",
     "output_type": "error",
     "traceback": [
      "\u001b[31m---------------------------------------------------------------------------\u001b[39m",
      "\u001b[31mNameError\u001b[39m                                 Traceback (most recent call last)",
      "\u001b[36mCell\u001b[39m\u001b[36m \u001b[39m\u001b[32mIn[6]\u001b[39m\u001b[32m, line 3\u001b[39m\n\u001b[32m      1\u001b[39m \u001b[38;5;66;03m# look at output from pdf reader\u001b[39;00m\n\u001b[32m----> \u001b[39m\u001b[32m3\u001b[39m first_page = \u001b[43mPdfReader\u001b[49m(sample_pdf).pages[\u001b[32m0\u001b[39m]\n\u001b[32m      4\u001b[39m text = first_page.extract_text()\n\u001b[32m      5\u001b[39m \u001b[38;5;28mprint\u001b[39m(text[:\u001b[32m1000\u001b[39m]) \n",
      "\u001b[31mNameError\u001b[39m: name 'PdfReader' is not defined"
     ]
    }
   ],
   "source": [
    "# look at output from pdf reader\n",
    "\n",
    "first_page = PdfReader(sample_pdf).pages[0]\n",
    "text = first_page.extract_text()\n",
    "print(text[:1000]) "
   ]
  },
  {
   "cell_type": "code",
   "execution_count": null,
   "id": "8a630a91-14ef-4c5b-8a1c-334fd25a9148",
   "metadata": {},
   "outputs": [],
   "source": []
  }
 ],
 "metadata": {
  "kernelspec": {
   "display_name": "Python 3 (ipykernel)",
   "language": "python",
   "name": "python3"
  },
  "language_info": {
   "codemirror_mode": {
    "name": "ipython",
    "version": 3
   },
   "file_extension": ".py",
   "mimetype": "text/x-python",
   "name": "python",
   "nbconvert_exporter": "python",
   "pygments_lexer": "ipython3",
   "version": "3.11.11"
  }
 },
 "nbformat": 4,
 "nbformat_minor": 5
}
