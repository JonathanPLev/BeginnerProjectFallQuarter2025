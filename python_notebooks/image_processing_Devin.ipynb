{
 "cells": [
  {
   "cell_type": "markdown",
   "id": "b730d485-9d64-4004-81d5-c99a66a49a84",
   "metadata": {},
   "source": [
    "1: Convert pdf to an image. Store the page as an image  \n",
    "\n",
    "2: img processing techniques like grayscale and diagram removal  \n",
    "\n",
    "3: bounding boxes per word  \n",
    "\n",
    "4: combine boxes into lines of text  \n"
   ]
  },
  {
   "cell_type": "code",
   "execution_count": 5,
   "id": "074ebfdf-0115-4edf-855a-fac3a1e03e4a",
   "metadata": {},
   "outputs": [],
   "source": [
    "import matplotlib.pyplot as plt\n",
    "import numpy as np\n",
    "import cv2\n",
    "import pandas as pd\n",
    "from PIL import Image\n",
    "import PyPDF2\n",
    "import pytesseract\n",
    "from pdf2image import convert_from_path\n"
   ]
  },
  {
   "cell_type": "markdown",
   "id": "994c53b5-1cfd-44a2-be68-e2c4e689f2be",
   "metadata": {},
   "source": [
    "# Step 1: Insert pdf path and save as image  \n",
    "Must install poppler: https://github.com/oschwartz10612/poppler-windows/releases  \n",
    "Follow directions to add poppler:  \n",
    "- Download poppler as .zip, then extract all\n",
    "- Press Win + R, type sysdm.cpl, hit Enter.\n",
    "- Go to Advanced → Environment Variables.\n",
    "- Under User variables, find Path → Edit → New.\n",
    "- Paste: C:\\pasteYourPathHere\\poppler-23.10.0\\bin\n",
    "\n",
    "Restart terminal, verify instalation: pdftoppm -h"
   ]
  },
  {
   "cell_type": "code",
   "execution_count": 33,
   "id": "a74fc29a-d8e3-4811-a0ee-a5a01d16430b",
   "metadata": {},
   "outputs": [
    {
     "name": "stdout",
     "output_type": "stream",
     "text": [
      "2\n"
     ]
    }
   ],
   "source": [
    "pdf_path = r\"C:\\Users\\dkhun\\UC Davis\\AISC Github repository\\BeginnerProjectFallQuarter2025\\data\\raw_pdfs\\textbook_pdf_6.pdf\"\n",
    "pdf_image = convert_from_path(pdf_path)\n",
    "\n",
    "pages = list(pdf_image)\n",
    "print(len(pages))\n",
    "pages[0].show()\n",
    "\n",
    "#resize image to standard?\n"
   ]
  },
  {
   "cell_type": "markdown",
   "id": "b0da74e6-645a-4fe9-908a-1d2da8fbe76b",
   "metadata": {},
   "source": [
    "# Step 2: Image processing shi"
   ]
  },
  {
   "cell_type": "code",
   "execution_count": 37,
   "id": "073dc47c-f333-4ce4-a4a3-1c583a3ed4c3",
   "metadata": {},
   "outputs": [],
   "source": [
    "\n",
    "grayscale_page1 = pages[0].convert('L')\n",
    "#convert image to NumPY array in order to apply filters\n",
    "opencv_page1 = np.array(grayscale_page1)\n",
    "blur_page1 = cv2.GaussianBlur(opencv_page1,(3,3),0)\n",
    "\n",
    "#Convert the opencv file back to PIL so that it can be viewed\n",
    "page1 = Image.fromarray(blur_page1)\n",
    "page1.show()"
   ]
  },
  {
   "cell_type": "code",
   "execution_count": null,
   "id": "8d8862ec-7b5b-4401-a51c-5fd1984a8804",
   "metadata": {},
   "outputs": [],
   "source": []
  }
 ],
 "metadata": {
  "kernelspec": {
   "display_name": "Python 3 (ipykernel)",
   "language": "python",
   "name": "python3"
  },
  "language_info": {
   "codemirror_mode": {
    "name": "ipython",
    "version": 3
   },
   "file_extension": ".py",
   "mimetype": "text/x-python",
   "name": "python",
   "nbconvert_exporter": "python",
   "pygments_lexer": "ipython3",
   "version": "3.11.14"
  }
 },
 "nbformat": 4,
 "nbformat_minor": 5
}
