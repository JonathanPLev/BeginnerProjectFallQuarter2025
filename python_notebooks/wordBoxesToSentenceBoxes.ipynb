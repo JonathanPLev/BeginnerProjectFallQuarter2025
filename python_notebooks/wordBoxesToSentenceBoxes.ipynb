{
 "cells": [
  {
   "cell_type": "markdown",
   "id": "e275b82a-fdbf-4074-b256-a517e2e1757b",
   "metadata": {},
   "source": [
    "# Logic converting bounding boxes around words to bounding boxes around the full sentence  \n",
    "\n",
    "## Steps\n",
    "\n",
    "1) Put all of our word bounding box data into a pandas DataFrame() structure (csv)\n",
    "2) Look at the top left pixel of the first word in a sentence and add the width to get to the top right pixel of the word\n",
    "3) Check the distance of the top right pixel from the top left pixel of the word directly to its right.\n",
    "       -If it is > threshold value, then the sentence bounding box should be completed\n",
    "       -If it is < threshold value, then the two word bounding boxes should be merged\n",
    "\n",
    "\n",
    "   \n",
    "\n",
    "\n"
   ]
  },
  {
   "cell_type": "code",
   "execution_count": 4,
   "id": "9e0a5d20-9ab1-4cd7-9a02-eee6fa484ef3",
   "metadata": {},
   "outputs": [],
   "source": [
    "import matplotlib.pyplot as plt\n",
    "import numpy as np\n",
    "import cv2\n",
    "import pandas as pd\n",
    "from PIL import Image\n",
    "import PyPDF2\n",
    "import pytesseract\n",
    "from pytesseract import Output\n",
    "from pdf2image import convert_from_path"
   ]
  },
  {
   "cell_type": "markdown",
   "id": "0e2ce9e3",
   "metadata": {},
   "source": [
    "## Download pytesseract instructions\n",
    "\n",
    "Download Tesseract on your computer - https://sourceforge.net/projects/tesseract-ocr.mirror/files/5.5.0/tesseract-ocr-w64-setup-5.5.0.20241111.exe/download \n",
    "- make sure to add C:\\Program Files\\Tesseract-OCR to your system PATH\n",
    "\n",
    "Paste this into your terminal to verify intallation worked: tesseract --version\n",
    "\n",
    "Install python wrapper by pasting this into your terminal: pip install pytesseract Pillow pandas\n"
   ]
  },
  {
   "cell_type": "markdown",
   "id": "2c7f8a38-7747-440d-9b06-96881320d3f2",
   "metadata": {},
   "source": [
    "## Turn pdf into image "
   ]
  },
  {
   "cell_type": "code",
   "execution_count": 22,
   "id": "2e54f49f-69dc-49af-9a9b-c0069142686a",
   "metadata": {},
   "outputs": [],
   "source": [
    "#pdf_path = r\"C:\\Users\\dkhun\\UC Davis\\AISC Github repository\\BeginnerProjectFallQuarter2025\\data\\raw_pdfs\\textbook_pdf_6.pdf\"\n",
    "pdf_path = r\"C:\\Users\\Conno\\OneDrive\\Desktop\\textbook_pdf_6.pdf\"\n",
    "pdf_image = convert_from_path(pdf_path)\n",
    "\n",
    "pages = list(pdf_image)\n",
    "pages[0].show()\n",
    "\n",
    "pages[0].save('output_page1.png','PNG') #save PIL Image to disk as a PNG so that I can use the file path in cv2.imread below"
   ]
  },
  {
   "cell_type": "markdown",
   "id": "4259aa3a-b1b4-441f-a815-bd3aaaf3ceaf",
   "metadata": {},
   "source": [
    "## Start by getting all of our word bounding box data into a pandas DataFrame()"
   ]
  },
  {
   "cell_type": "code",
   "execution_count": 21,
   "id": "f63b18a8-55f7-410e-abba-dc0be9297627",
   "metadata": {},
   "outputs": [
    {
     "name": "stdout",
     "output_type": "stream",
     "text": [
      "   level  page_num  block_num  par_num  line_num  word_num  left  top  width  \\\n",
      "0      1         1          0        0         0         0     0    0   1533   \n",
      "1      2         1          1        0         0         0   275  245   1005   \n",
      "2      3         1          1        1         0         0   275  245   1005   \n",
      "3      4         1          1        1         1         0   275  245   1005   \n",
      "4      5         1          1        1         1         1   275  250    137   \n",
      "\n",
      "   height  conf  text  \n",
      "0    2132    -1        \n",
      "1      48    -1        \n",
      "2      48    -1        \n",
      "3      48    -1        \n",
      "4      36    96  AAPA  \n",
      "   left  top  width  height\n",
      "0     0    0   1533    2132\n",
      "1   275  245   1005      48\n",
      "2   275  245   1005      48\n",
      "3   275  245   1005      48\n",
      "4   275  250    137      36\n"
     ]
    }
   ],
   "source": [
    "\n",
    "img = cv2.imread('output_page1.png')\n",
    "data = pytesseract.image_to_data(img, output_type=Output.DICT)\n",
    "\n",
    "df = pd.DataFrame(data)\n",
    "df_NeededData = df[['left','top','width','height']]\n",
    "print(df.head())\n",
    "print(df_NeededData.head())"
   ]
  },
  {
   "cell_type": "code",
   "execution_count": null,
   "id": "5ece8c87-0b60-45ae-9354-1de274176a5d",
   "metadata": {},
   "outputs": [],
   "source": [
    "threshold = 10\n",
    "if("
   ]
  },
  {
   "cell_type": "code",
   "execution_count": null,
   "id": "323c551b-f28a-40cb-86fe-9b511393c1cf",
   "metadata": {},
   "outputs": [],
   "source": []
  }
 ],
 "metadata": {
  "kernelspec": {
   "display_name": "Python 3 (ipykernel)",
   "language": "python",
   "name": "python3"
  },
  "language_info": {
   "codemirror_mode": {
    "name": "ipython",
    "version": 3
   },
   "file_extension": ".py",
   "mimetype": "text/x-python",
   "name": "python",
   "nbconvert_exporter": "python",
   "pygments_lexer": "ipython3",
   "version": "3.11.14"
  }
 },
 "nbformat": 4,
 "nbformat_minor": 5
}
